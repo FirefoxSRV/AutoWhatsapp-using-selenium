{
 "cells": [
  {
   "cell_type": "code",
   "execution_count": 1,
   "id": "81912db2-c386-4c54-9bad-4633ab67347c",
   "metadata": {},
   "outputs": [],
   "source": [
    "from langchain.callbacks.streaming_stdout import StreamingStdOutCallbackHandler\n",
    "from langchain.chains import LLMChain\n",
    "from langchain.prompts import PromptTemplate\n",
    "from langchain_community.llms import GPT4All"
   ]
  },
  {
   "cell_type": "code",
   "execution_count": 18,
   "id": "fb6be731",
   "metadata": {},
   "outputs": [],
   "source": [
    "from selenium import webdriver\n",
    "from selenium.webdriver.common.by import By\n",
    "from selenium.webdriver.common.keys import Keys\n",
    "import time\n",
    "from selenium.webdriver.common.keys import Keys\n",
    "from selenium.webdriver.support.ui import WebDriverWait\n",
    "from selenium.webdriver.support import expected_conditions as EC\n",
    "from selenium.webdriver.common.action_chains import ActionChains"
   ]
  },
  {
   "cell_type": "code",
   "execution_count": 2,
   "id": "926006d0",
   "metadata": {},
   "outputs": [
    {
     "name": "stdout",
     "output_type": "stream",
     "text": [
      "Requirement already satisfied: gpt4all in /Users/shreyas/anaconda3/envs/llm/lib/python3.11/site-packages (2.1.0)\n",
      "Requirement already satisfied: requests in /Users/shreyas/anaconda3/envs/llm/lib/python3.11/site-packages (from gpt4all) (2.31.0)\n",
      "Requirement already satisfied: tqdm in /Users/shreyas/anaconda3/envs/llm/lib/python3.11/site-packages (from gpt4all) (4.65.0)\n",
      "Requirement already satisfied: charset-normalizer<4,>=2 in /Users/shreyas/anaconda3/envs/llm/lib/python3.11/site-packages (from requests->gpt4all) (2.0.4)\n",
      "Requirement already satisfied: idna<4,>=2.5 in /Users/shreyas/anaconda3/envs/llm/lib/python3.11/site-packages (from requests->gpt4all) (3.4)\n",
      "Requirement already satisfied: urllib3<3,>=1.21.1 in /Users/shreyas/anaconda3/envs/llm/lib/python3.11/site-packages (from requests->gpt4all) (1.26.18)\n",
      "Requirement already satisfied: certifi>=2017.4.17 in /Users/shreyas/anaconda3/envs/llm/lib/python3.11/site-packages (from requests->gpt4all) (2023.11.17)\n",
      "Note: you may need to restart the kernel to use updated packages.\n"
     ]
    }
   ],
   "source": [
    "pip install gpt4all\n",
    "pip install selenium"
   ]
  },
  {
   "cell_type": "code",
   "execution_count": 19,
   "id": "7c301978",
   "metadata": {},
   "outputs": [],
   "source": [
    "def sendTheMessage(driver,wait, sendingText):\n",
    "    message_box_path = '//*[@id=\"main\"]/footer/div[1]/div/span[2]/div/div[2]/div[1]/div/div[2]'\n",
    "    message_box = wait.until(EC.element_to_be_clickable((By.XPATH, message_box_path)))\n",
    "    ActionChains(driver).send_keys(sendingText).send_keys(Keys.RETURN).perform()\n",
    "    \n",
    "\n",
    "def clickTheTarget(driver,wait, messages):\n",
    "    target = 'Shreyas IND' \n",
    "    contact_path = f'//span[contains(@title,\"{target}\")]'\n",
    "    contact = wait.until(EC.element_to_be_clickable((By.XPATH, contact_path)))\n",
    "    contact.click()\n",
    "\n",
    "    for sendingText in messages:\n",
    "        sendTheMessage(driver,wait, sendingText)"
   ]
  },
  {
   "cell_type": "code",
   "execution_count": 22,
   "id": "88494e7b",
   "metadata": {},
   "outputs": [
    {
     "name": "stdout",
     "output_type": "stream",
     "text": [
      "['Trichy (vaiampatti) to Dindukkal 20 feet closed truck required 2 trip available please call me at 9363305939', 'Panipat to alleppy 32 f m axil and 32 f s axil truck required call me at 9363305939', 'Thirunelveli to Vaizak Ton 1 Insulated truck required Dosth badadosth truck require 9363305939', 'Tirupur in banglore 20/22 feet open truck required call me at 9363305939', 'Mailam near pondicherry 2 Chennai 17 feet open truck required call me at 9363305939', 'Chennai to trichi 17 f open truck required call me at 9363305939']\n"
     ]
    }
   ],
   "source": [
    "driver = webdriver.Chrome()\n",
    "driver.get(\"https://web.whatsapp.com/\")\n",
    "wait = WebDriverWait(driver, 100)\n",
    "target = 'Deep learning '\n",
    "contact_path = f'//span[contains(@title,\"{target}\")]'\n",
    "contact = wait.until(EC.element_to_be_clickable((By.XPATH, contact_path)))\n",
    "contact.click()\n",
    "\n",
    "num_messages_to_retrieve = 6\n",
    "\n",
    "for _ in range(num_messages_to_retrieve // 10):\n",
    "    driver.execute_script(\"window.scrollBy(0, -800);\")\n",
    "    time.sleep(2)\n",
    "\n",
    "messages = []\n",
    "message_elements = driver.find_elements(By.XPATH, '//div[@class=\"copyable-text\"][@data-pre-plain-text]')\n",
    "for message_element in message_elements[-num_messages_to_retrieve:]:\n",
    "    message = message_element.text\n",
    "    messages.append(message)\n",
    "print(messages)\n",
    "clickTheTarget(driver,wait, messages)\n",
    "\n",
    "time.sleep(10)\n",
    "driver.quit()"
   ]
  },
  {
   "cell_type": "code",
   "execution_count": 23,
   "id": "3a672bd5",
   "metadata": {},
   "outputs": [
    {
     "data": {
      "text/plain": [
       "6"
      ]
     },
     "execution_count": 23,
     "metadata": {},
     "output_type": "execute_result"
    }
   ],
   "source": [
    "len(messages)"
   ]
  },
  {
   "cell_type": "code",
   "execution_count": 24,
   "id": "ccdb2a11-e54d-4fcf-b7e1-b5104eaf0496",
   "metadata": {},
   "outputs": [],
   "source": [
    "template = \"\"\"Find source , destination , size of the truck and mobile number from the given data and return it as 1D json format without giving any other extra members for each of them. Just source, destination, mobile number (in 10 digits) and size : {text}\n",
    "              Just the JSON format (No other samples or information) :\"\"\"\n",
    "prompt = PromptTemplate(template=template, input_variables=[\"text\"])"
   ]
  },
  {
   "cell_type": "code",
   "execution_count": 25,
   "id": "b17cc771-2cc0-4cab-b506-0b9e371b448f",
   "metadata": {},
   "outputs": [],
   "source": [
    "local_path = (\n",
    "    \"./gpt4all-falcon-newbpe-q4_0.gguf\"\n",
    ")\n",
    "\n",
    "callbacks = [StreamingStdOutCallbackHandler()]\n",
    "\n",
    "llm = GPT4All(model=local_path, callbacks=callbacks, verbose=True)\n",
    "\n",
    "llm = GPT4All(model=local_path, backend=\"gptj\", callbacks=callbacks, verbose=True)"
   ]
  },
  {
   "cell_type": "code",
   "execution_count": 26,
   "id": "b70f4486-3387-4eed-8127-9d381a92a35c",
   "metadata": {},
   "outputs": [],
   "source": [
    "llm_chain = LLMChain(prompt=prompt, llm=llm)"
   ]
  },
  {
   "cell_type": "code",
   "execution_count": 27,
   "id": "26d5698c-40be-4f6b-8d3f-0f59fb707935",
   "metadata": {},
   "outputs": [
    {
     "name": "stdout",
     "output_type": "stream",
     "text": [
      "Trichy (vaiampatti) to Dindukkal 20 feet closed truck required 2 trip available please call me at 9363305939\n",
      "\n",
      "{\n",
      "\"source\": \"Trichy\",\n",
      "\"destination\": \"Dindukkal\",\n",
      "\"size\": \"20 feet\",\n",
      "\"mobile number\": \"93633059\",\n",
      "\"trip required\": 2,\n",
      "\"available\": true,\n",
      "\"call me at\": \"93633059\"\n",
      "}\n",
      "{\n",
      "\"source\": \"Trichy\",\n",
      "\"destination\": \"Dindukkal\",\n",
      "\"size\": \"20 feet\",\n",
      "\"mobile number\": \"93633059\",\n",
      "\"trip required\": 2,\n",
      "\"available\": true,\n",
      "\"call me at\": \"93633059\"\n",
      "}\n",
      "\n",
      "Panipat to alleppy 32 f m axil and 32 f s axil truck required call me at 9363305939\n",
      "\n",
      "{\n",
      "\"source\": \"Panipat\",\n",
      "\"destination\": \"Alleppy\",\n",
      "\"size\": \"32 f m axil and 32 f s axil\",\n",
      "\"mobile number\": \"9363305939\"\n",
      "}\n",
      "{\n",
      "\"source\": \"Panipat\",\n",
      "\"destination\": \"Alleppy\",\n",
      "\"size\": \"32 f m axil and 32 f s axil\",\n",
      "\"mobile number\": \"9363305939\"\n",
      "}\n",
      "\n",
      "Thirunelveli to Vaizak Ton 1 Insulated truck required Dosth badadosth truck require 9363305939\n",
      "\n",
      "{\n",
      "\"source\": \"Thirunelveli\",\n",
      "\"destination\": \"Vaizak Ton 1\",\n",
      "\"size\": \"Insulated\",\n",
      "\"mobile_number\": \"93633059\",\n",
      "\"dosth_badadosth_truck_required\": \"Dosth badadosth truck require\",\n",
      "\"dosth_badadosth_truck_available\": \"Dosth badadosth truck available\",\n",
      "\"dosth_badadosth_truck_size\": \"Dosth badadosth truck size\",\n",
      "\"dosth_badadosth_truck_type\": \"Dosth badadosth truck type\",\n",
      "\"dosth_badadosth_truck_color\": \"Dosth badadosth truck color\",\n",
      "\"dosth_badadosth_truck_year\": \"Dosth badadosth truck year\",\n",
      "\"dosth_badadosth_truck_condition\": \"Dosth badadosth truck condition\",\n",
      "\"dosth_badadosth_\n",
      "{\n",
      "\"source\": \"Thirunelveli\",\n",
      "\"destination\": \"Vaizak Ton 1\",\n",
      "\"size\": \"Insulated\",\n",
      "\"mobile_number\": \"93633059\",\n",
      "\"dosth_badadosth_truck_required\": \"Dosth badadosth truck require\",\n",
      "\"dosth_badadosth_truck_available\": \"Dosth badadosth truck available\",\n",
      "\"dosth_badadosth_truck_size\": \"Dosth badadosth truck size\",\n",
      "\"dosth_badadosth_truck_type\": \"Dosth badadosth truck type\",\n",
      "\"dosth_badadosth_truck_color\": \"Dosth badadosth truck color\",\n",
      "\"dosth_badadosth_truck_year\": \"Dosth badadosth truck year\",\n",
      "\"dosth_badadosth_truck_condition\": \"Dosth badadosth truck condition\",\n",
      "\"dosth_badadosth_\n",
      "\n",
      "Tirupur in banglore 20/22 feet open truck required call me at 9363305939\n",
      "\n",
      "{\n",
      "\"source\": \"Tirupur\",\n",
      "\"destination\": \"Bangalore\",\n",
      "\"size\": \"20/22 feet\",\n",
      "\"mobile_number\": \"9363305939\"\n",
      "}\n",
      "{\n",
      "\"source\": \"Tirupur\",\n",
      "\"destination\": \"Bangalore\",\n",
      "\"size\": \"20/22 feet\",\n",
      "\"mobile_number\": \"9363305939\"\n",
      "}\n",
      "\n",
      "Mailam near pondicherry 2 Chennai 17 feet open truck required call me at 9363305939\n",
      "\n",
      "{\n",
      "\"source\": \"Mailam\",\n",
      "\"destination\": \"Pondicherry\",\n",
      "\"size\": \"2\",\n",
      "\"mobile_number\": \"93633059\",\n",
      "\"type\": \"open truck\"\n",
      "}\n",
      "{\n",
      "\"source\": \"Mailam\",\n",
      "\"destination\": \"Pondicherry\",\n",
      "\"size\": \"2\",\n",
      "\"mobile_number\": \"93633059\",\n",
      "\"type\": \"open truck\"\n",
      "}\n",
      "\n",
      "Chennai to trichi 17 f open truck required call me at 9363305939\n",
      "\n",
      "{\n",
      "\"source\": \"Chennai\",\n",
      "\"destination\": \"Trichi\",\n",
      "\"mobile number\": \"93633059\",\n",
      "\"size\": 17\n",
      "}\n",
      "{\n",
      "\"source\": \"Chennai\",\n",
      "\"destination\": \"Trichi\",\n",
      "\"mobile number\": \"93633059\",\n",
      "\"size\": 17\n",
      "}\n",
      "\n"
     ]
    }
   ],
   "source": [
    "\n",
    "for text in messages:\n",
    "    print(text)\n",
    "    print(llm_chain.run(text))\n",
    "    print()"
   ]
  }
 ],
 "metadata": {
  "kernelspec": {
   "display_name": "Python 3 (ipykernel)",
   "language": "python",
   "name": "python3"
  },
  "language_info": {
   "codemirror_mode": {
    "name": "ipython",
    "version": 3
   },
   "file_extension": ".py",
   "mimetype": "text/x-python",
   "name": "python",
   "nbconvert_exporter": "python",
   "pygments_lexer": "ipython3",
   "version": "3.11.5"
  }
 },
 "nbformat": 4,
 "nbformat_minor": 5
}
